{
  "nbformat": 4,
  "nbformat_minor": 0,
  "metadata": {
    "colab": {
      "name": "GNS_Regression_Lab.ipynb",
      "provenance": [],
      "collapsed_sections": [],
      "include_colab_link": true
    },
    "kernelspec": {
      "name": "python3",
      "display_name": "Python 3"
    }
  },
  "cells": [
    {
      "cell_type": "markdown",
      "metadata": {
        "id": "view-in-github",
        "colab_type": "text"
      },
      "source": [
        "<a href=\"https://colab.research.google.com/github/SD0313/Regression-Lab/blob/main/GNS_Regression_Lab.ipynb\" target=\"_parent\"><img src=\"https://colab.research.google.com/assets/colab-badge.svg\" alt=\"Open In Colab\"/></a>"
      ]
    },
    {
      "cell_type": "markdown",
      "metadata": {
        "id": "AR-A7NwrniAV"
      },
      "source": [
        "# Regression Lab"
      ]
    },
    {
      "cell_type": "markdown",
      "metadata": {
        "id": "J2GpuNOr_xpo"
      },
      "source": [
        "Run the following code cell to install the newest version of sci-kit learn. You may be prompted to restart the kernel after installation."
      ]
    },
    {
      "cell_type": "code",
      "metadata": {
        "colab": {
          "base_uri": "https://localhost:8080/"
        },
        "id": "mxvRKMEYiqPo",
        "outputId": "3ddf1100-0d00-4c88-d2d4-ad5f61c5d8c1"
      },
      "source": [
        "pip install -U scikit-learn"
      ],
      "execution_count": null,
      "outputs": [
        {
          "output_type": "stream",
          "text": [
            "Requirement already up-to-date: scikit-learn in /usr/local/lib/python3.6/dist-packages (0.23.2)\n",
            "Requirement already satisfied, skipping upgrade: numpy>=1.13.3 in /usr/local/lib/python3.6/dist-packages (from scikit-learn) (1.18.5)\n",
            "Requirement already satisfied, skipping upgrade: joblib>=0.11 in /usr/local/lib/python3.6/dist-packages (from scikit-learn) (0.17.0)\n",
            "Requirement already satisfied, skipping upgrade: threadpoolctl>=2.0.0 in /usr/local/lib/python3.6/dist-packages (from scikit-learn) (2.1.0)\n",
            "Requirement already satisfied, skipping upgrade: scipy>=0.19.1 in /usr/local/lib/python3.6/dist-packages (from scikit-learn) (1.4.1)\n"
          ],
          "name": "stdout"
        }
      ]
    },
    {
      "cell_type": "code",
      "metadata": {
        "id": "Qo_-dz3e_o0e"
      },
      "source": [
        "from sklearn.linear_model import LinearRegression\n",
        "from sklearn.datasets import fetch_california_housing\n",
        "from sklearn.model_selection import train_test_split\n",
        "from sklearn.metrics import mean_squared_error\n",
        "from sklearn.metrics import mean_absolute_error\n",
        "from sklearn.preprocessing import StandardScaler\n",
        "###Pandas Dataframe###\n",
        "import pandas as pd\n",
        "\n",
        "%matplotlib inline\n",
        "import matplotlib.pyplot as plt"
      ],
      "execution_count": null,
      "outputs": []
    },
    {
      "cell_type": "markdown",
      "metadata": {
        "id": "InnwDElkHOQ2"
      },
      "source": [
        "## Load Data\n",
        "\n",
        "In this lab, we will use the california house prices dataset. This is one of the most common regression datasets. In fact, the sci-kit learn library already contains a method called ```fetch_california_housing``` for us to access the data. \n",
        "\n",
        "**Dataset Overview**\n",
        "\n",
        "There are 8 different features (input variables) that represent a variety of factors about the house itself. Here is a list of the input features...\n",
        "* Median Income in that block\n",
        "* Median Age of House in that block\n",
        "* Average Number of Rooms\n",
        "* Average Number of Bedrooms\n",
        "* Block Population\n",
        "* Average House Occupancy\n",
        "* Latitude of House\n",
        "* Longitude of House\n",
        "\n",
        "Using the information given above, our goal is to predict the **Median House Value** in the block. \n",
        "\n",
        "Let's get started!\n"
      ]
    },
    {
      "cell_type": "code",
      "metadata": {
        "colab": {
          "base_uri": "https://localhost:8080/",
          "height": 202
        },
        "id": "2osaJGsYp2Vm",
        "outputId": "4127cf2d-cf84-41d7-e022-4e883348a14f"
      },
      "source": [
        "X, y = fetch_california_housing(return_X_y=True, as_frame=True) #as_frame=True makes it return pd.DataFrame object\n",
        "X.head()"
      ],
      "execution_count": null,
      "outputs": [
        {
          "output_type": "execute_result",
          "data": {
            "text/html": [
              "<div>\n",
              "<style scoped>\n",
              "    .dataframe tbody tr th:only-of-type {\n",
              "        vertical-align: middle;\n",
              "    }\n",
              "\n",
              "    .dataframe tbody tr th {\n",
              "        vertical-align: top;\n",
              "    }\n",
              "\n",
              "    .dataframe thead th {\n",
              "        text-align: right;\n",
              "    }\n",
              "</style>\n",
              "<table border=\"1\" class=\"dataframe\">\n",
              "  <thead>\n",
              "    <tr style=\"text-align: right;\">\n",
              "      <th></th>\n",
              "      <th>MedInc</th>\n",
              "      <th>HouseAge</th>\n",
              "      <th>AveRooms</th>\n",
              "      <th>AveBedrms</th>\n",
              "      <th>Population</th>\n",
              "      <th>AveOccup</th>\n",
              "      <th>Latitude</th>\n",
              "      <th>Longitude</th>\n",
              "    </tr>\n",
              "  </thead>\n",
              "  <tbody>\n",
              "    <tr>\n",
              "      <th>0</th>\n",
              "      <td>8.3252</td>\n",
              "      <td>41.0</td>\n",
              "      <td>6.984127</td>\n",
              "      <td>1.023810</td>\n",
              "      <td>322.0</td>\n",
              "      <td>2.555556</td>\n",
              "      <td>37.88</td>\n",
              "      <td>-122.23</td>\n",
              "    </tr>\n",
              "    <tr>\n",
              "      <th>1</th>\n",
              "      <td>8.3014</td>\n",
              "      <td>21.0</td>\n",
              "      <td>6.238137</td>\n",
              "      <td>0.971880</td>\n",
              "      <td>2401.0</td>\n",
              "      <td>2.109842</td>\n",
              "      <td>37.86</td>\n",
              "      <td>-122.22</td>\n",
              "    </tr>\n",
              "    <tr>\n",
              "      <th>2</th>\n",
              "      <td>7.2574</td>\n",
              "      <td>52.0</td>\n",
              "      <td>8.288136</td>\n",
              "      <td>1.073446</td>\n",
              "      <td>496.0</td>\n",
              "      <td>2.802260</td>\n",
              "      <td>37.85</td>\n",
              "      <td>-122.24</td>\n",
              "    </tr>\n",
              "    <tr>\n",
              "      <th>3</th>\n",
              "      <td>5.6431</td>\n",
              "      <td>52.0</td>\n",
              "      <td>5.817352</td>\n",
              "      <td>1.073059</td>\n",
              "      <td>558.0</td>\n",
              "      <td>2.547945</td>\n",
              "      <td>37.85</td>\n",
              "      <td>-122.25</td>\n",
              "    </tr>\n",
              "    <tr>\n",
              "      <th>4</th>\n",
              "      <td>3.8462</td>\n",
              "      <td>52.0</td>\n",
              "      <td>6.281853</td>\n",
              "      <td>1.081081</td>\n",
              "      <td>565.0</td>\n",
              "      <td>2.181467</td>\n",
              "      <td>37.85</td>\n",
              "      <td>-122.25</td>\n",
              "    </tr>\n",
              "  </tbody>\n",
              "</table>\n",
              "</div>"
            ],
            "text/plain": [
              "   MedInc  HouseAge  AveRooms  ...  AveOccup  Latitude  Longitude\n",
              "0  8.3252      41.0  6.984127  ...  2.555556     37.88    -122.23\n",
              "1  8.3014      21.0  6.238137  ...  2.109842     37.86    -122.22\n",
              "2  7.2574      52.0  8.288136  ...  2.802260     37.85    -122.24\n",
              "3  5.6431      52.0  5.817352  ...  2.547945     37.85    -122.25\n",
              "4  3.8462      52.0  6.281853  ...  2.181467     37.85    -122.25\n",
              "\n",
              "[5 rows x 8 columns]"
            ]
          },
          "metadata": {
            "tags": []
          },
          "execution_count": 3
        }
      ]
    },
    {
      "cell_type": "markdown",
      "metadata": {
        "id": "AO0Aq7DgLQFg"
      },
      "source": [
        "Pandas is one of the most helpful libraries in machine learning. It helps with data visualization and keeps everything organized. One of the most important methods with pandas is ```.head()```. If you look at the previous code cell, you can see how nicely formatted the data is. \n",
        "\n",
        "We will also use another quick feature of pandas called ```.info()```. This will tell us whether there are any missing values and what data type the values are. "
      ]
    },
    {
      "cell_type": "code",
      "metadata": {
        "colab": {
          "base_uri": "https://localhost:8080/"
        },
        "id": "Xe7SBQNMri9u",
        "outputId": "54d8561f-8335-4348-9752-7fc6e19804fd"
      },
      "source": [
        "X.info()"
      ],
      "execution_count": null,
      "outputs": [
        {
          "output_type": "stream",
          "text": [
            "<class 'pandas.core.frame.DataFrame'>\n",
            "RangeIndex: 20640 entries, 0 to 20639\n",
            "Data columns (total 8 columns):\n",
            " #   Column      Non-Null Count  Dtype  \n",
            "---  ------      --------------  -----  \n",
            " 0   MedInc      20640 non-null  float64\n",
            " 1   HouseAge    20640 non-null  float64\n",
            " 2   AveRooms    20640 non-null  float64\n",
            " 3   AveBedrms   20640 non-null  float64\n",
            " 4   Population  20640 non-null  float64\n",
            " 5   AveOccup    20640 non-null  float64\n",
            " 6   Latitude    20640 non-null  float64\n",
            " 7   Longitude   20640 non-null  float64\n",
            "dtypes: float64(8)\n",
            "memory usage: 1.3 MB\n"
          ],
          "name": "stdout"
        }
      ]
    },
    {
      "cell_type": "markdown",
      "metadata": {
        "id": "lsYhvvQg-mtO"
      },
      "source": [
        "This dataset does not have any missing values since each feature has 20640 non-null instances. This will make our lives much easier since we do not have to impute the data to strategically add fake values. \r\n",
        "\r\n",
        "Another important piece of information is the Dtype. All the data types are floats in our dataframe. This may not always be the case. If we have categorical data, then we would often have strings in those categories. Then they would have to be converted to numerical values. \r\n",
        "\r\n",
        "As you can see, this dataset is nicely prepared for us already which makes it a good place to start. However, eventually everyone will have to learn how to deal with missing values and categorical data."
      ]
    },
    {
      "cell_type": "markdown",
      "metadata": {
        "id": "SPj87Owlowb3"
      },
      "source": [
        "Use ```head()``` again to look at the first 5 $y$ values/labels."
      ]
    },
    {
      "cell_type": "code",
      "metadata": {
        "colab": {
          "base_uri": "https://localhost:8080/"
        },
        "id": "rrvi12GUG6UQ",
        "outputId": "85a3c72b-3884-4c59-debe-c8a040432776"
      },
      "source": [
        "y.head()"
      ],
      "execution_count": null,
      "outputs": [
        {
          "output_type": "execute_result",
          "data": {
            "text/plain": [
              "0    4.526\n",
              "1    3.585\n",
              "2    3.521\n",
              "3    3.413\n",
              "4    3.422\n",
              "Name: MedHouseVal, dtype: float64"
            ]
          },
          "metadata": {
            "tags": []
          },
          "execution_count": 6
        }
      ]
    },
    {
      "cell_type": "markdown",
      "metadata": {
        "id": "XTXmUhmypPj7"
      },
      "source": [
        "Data visualization is an extremely important part of data science and machine learning. Here, we will first visualize the value we are predicting with a histogram."
      ]
    },
    {
      "cell_type": "code",
      "metadata": {
        "colab": {
          "base_uri": "https://localhost:8080/",
          "height": 211
        },
        "id": "ob_AEWkqjJ6w",
        "outputId": "79e2c9cd-8ecf-4571-b5b1-7ba6d363c233"
      },
      "source": [
        "y.hist(bins=50, figsize=(4, 3))\r\n",
        "plt.show()"
      ],
      "execution_count": null,
      "outputs": [
        {
          "output_type": "display_data",
          "data": {
            "image/png": "[encoded data removed]",
            "text/plain": [
              "<Figure size 288x216 with 1 Axes>"
            ]
          },
          "metadata": {
            "tags": [],
            "needs_background": "light"
          }
        }
      ]
    },
    {
      "cell_type": "markdown",
      "metadata": {
        "id": "DmoABDCrpe4a"
      },
      "source": [
        "**What do you notice from the histogram above?**\r\n",
        "\r\n",
        "It looks skewed to the right, however, the one outlier is at 5. There is an usually large number of instances in that bin. The reason this happens is because the dataset we are using has bounded the median house value at 5.001. So every instance above 5 was automatically scaled down to this value. \r\n",
        "\r\n",
        "Obviously, this dataset is for practice and it will not actually be used in production. However, it would be important to note that your algorithm is not trained to predict precise values for house prices above 5.001. "
      ]
    },
    {
      "cell_type": "markdown",
      "metadata": {
        "id": "TnJVMgNt77Lz"
      },
      "source": [
        "Before starting a project, you always want to set some data aside for validation. The most common split that people use is the 80-20 split. This mean you will use 80% of all the data for training, and the other 20% for validation. \r\n",
        "\r\n",
        "The reason we do not use a lot more for validation is because we need a sufficient amount of training data. If we had too little, we risk overfitting. On the other hand, too little validation data results in unreliable validation of the model. \r\n",
        "\r\n",
        "We will use the ```train_test_split``` function imported from ```sklearn.model_selection``` to easily split the data. We specify the ```test_size``` parameter as 0.2 to do the 80-20 split. "
      ]
    },
    {
      "cell_type": "code",
      "metadata": {
        "id": "uOYtQ_iSuBfU"
      },
      "source": [
        "X_train, X_test, y_train, y_test = train_test_split(X, y, test_size=0.2, random_state=42)"
      ],
      "execution_count": null,
      "outputs": []
    },
    {
      "cell_type": "markdown",
      "metadata": {
        "id": "dsI64XTdKY7Z"
      },
      "source": [
        "### Visualize Input Features"
      ]
    },
    {
      "cell_type": "code",
      "metadata": {
        "colab": {
          "base_uri": "https://localhost:8080/",
          "height": 607
        },
        "id": "wh3QE6Utr74u",
        "outputId": "e10eece6-ad81-472d-a665-7fc2cb51d3d4"
      },
      "source": [
        "X.hist(bins=50, figsize=(12, 10))\n",
        "plt.show()"
      ],
      "execution_count": null,
      "outputs": [
        {
          "output_type": "display_data",
          "data": {
            "image/png": "[encoded data removed]",
            "text/plain": [
              "<Figure size 864x720 with 9 Axes>"
            ]
          },
          "metadata": {
            "tags": [],
            "needs_background": "light"
          }
        }
      ]
    },
    {
      "cell_type": "code",
      "metadata": {
        "colab": {
          "base_uri": "https://localhost:8080/"
        },
        "id": "9GUwgdHbDbDr",
        "outputId": "cc7b9f51-803c-41a5-9816-32bbe4f068d1"
      },
      "source": [
        "print(f'Number of training samples: {len(X_train)}')\n",
        "print(f'Number of testing samples: {len(X_test)}')"
      ],
      "execution_count": null,
      "outputs": [
        {
          "output_type": "stream",
          "text": [
            "Number of training samples: 16512\n",
            "Number of testing samples: 4128\n"
          ],
          "name": "stdout"
        }
      ]
    },
    {
      "cell_type": "markdown",
      "metadata": {
        "id": "qtsaTLym0_0e"
      },
      "source": [
        "**Scaling the Data**\r\n",
        "\r\n",
        "If we look at the histogram above, it is easy to notice that the range of data is completely different for each feature. For example, median income lies in the range $[0.499, 15.001]$ and the Population feature lies in the range $[3.0, 35682.0]$. Machine learning models generally perform better when each feature value lies in approximately the same range. Again, ```StandardScaler``` for ```sklearn.preprocessing``` makes this task very simple. \r\n",
        "\r\n",
        "First, let's understand how standard scaler works. In basic terms, it takes each value, then subtracts the mean of all the values of that feature, then divides by the standard deviation of all the values of that feature. The mathematical formula makes it much cleaner...\r\n",
        "\r\n",
        "$f(x)=\\frac{x-\\mu}{\\sigma}$\r\n",
        "\r\n",
        "$f(x)$ - New Feature Value\r\n",
        "\r\n",
        "$x$ - Original Feature Value\r\n",
        "\r\n",
        "$\\mu$ - Average value of the feature\r\n",
        "\r\n",
        "$\\sigma$ - Standard Deviation of the feature\r\n",
        "\r\n",
        "Keep in mind that you only apply this to numerical data. If you have categorical data, such as color (red, green, blue, etc.), then you would leave those as it is or apply other preprocessing techniques such as OneHotEncoding which we will cover later. "
      ]
    },
    {
      "cell_type": "code",
      "metadata": {
        "id": "Uz8mjMZsnQ4d"
      },
      "source": [
        "std_scaler = StandardScaler()\r\n",
        "X_train_prepared = std_scaler.fit_transform(X_train)"
      ],
      "execution_count": null,
      "outputs": []
    },
    {
      "cell_type": "markdown",
      "metadata": {
        "id": "0drFnPY84i9N"
      },
      "source": [
        "We called the ```fit_transform``` function of Standard Scaler. This is because we first have to fit the scaler on the training data to find the average values and the standard deviations. Then, we transform the dataset to find the new values. "
      ]
    },
    {
      "cell_type": "code",
      "metadata": {
        "colab": {
          "base_uri": "https://localhost:8080/",
          "height": 607
        },
        "id": "fNyStXFunvBu",
        "outputId": "dc28564a-8a2a-4213-c6e2-f04835d347b7"
      },
      "source": [
        "df = pd.DataFrame(X_train_prepared, columns=X.columns)\r\n",
        "df.hist(bins=50, figsize=(12, 10))\r\n",
        "plt.show()"
      ],
      "execution_count": null,
      "outputs": [
        {
          "output_type": "display_data",
          "data": {
            "image/png": "[encoded data removed]",
            "text/plain": [
              "<Figure size 864x720 with 9 Axes>"
            ]
          },
          "metadata": {
            "tags": [],
            "needs_background": "light"
          }
        }
      ]
    },
    {
      "cell_type": "markdown",
      "metadata": {
        "id": "StbvIYzO43JX"
      },
      "source": [
        "The histograms display very similar and almost the same shape as before. However, when you look along the $x$-axis, you can see all the values are much closer together. You can try comparing the two categories we compared earlier to see this for yourself."
      ]
    },
    {
      "cell_type": "markdown",
      "metadata": {
        "id": "aHOdur-XAFxr"
      },
      "source": [
        "## Create Model\r\n",
        "\r\n",
        "Our first model will be a basic linear regression model from sklearn. This is one of the best parts about sklearn. It allows you to train a model in just 2 lines of code! There is no need to worry about the complex things going around in the background. \r\n",
        "\r\n",
        "Just as a quick refresher, here is the formula a Linear Regression model uses to make a prediction.\r\n",
        "\r\n",
        "$\\hat{y} = \\beta_0+\\beta_1x_1+\\beta_2x_2+\\beta_3x_3+...+\\beta_7x_7+\\beta_8x_8$\r\n",
        "\r\n",
        "Each of the 8 features $x_i$ are associated with a coefficient $\\beta_i$ for $i > 0$. Then, there is the intercept which is denoted as $\\beta_0$"
      ]
    },
    {
      "cell_type": "code",
      "metadata": {
        "id": "AFc_k64YDkhi"
      },
      "source": [
        "linear_model = LinearRegression()\n",
        "reg = linear_model.fit(X_train_prepared, y_train)"
      ],
      "execution_count": null,
      "outputs": []
    },
    {
      "cell_type": "markdown",
      "metadata": {
        "id": "mJTNgZeq41oB"
      },
      "source": [
        "#### Make Predictions!"
      ]
    },
    {
      "cell_type": "code",
      "metadata": {
        "id": "eUbIgjxa1wI5"
      },
      "source": [
        "###First Scale the Data###\r\n",
        "X_test_prepared = std_scaler.transform(X_test)\r\n",
        "y_hat = reg.predict(X_test_prepared)"
      ],
      "execution_count": null,
      "outputs": []
    },
    {
      "cell_type": "markdown",
      "metadata": {
        "id": "IUwmz2Onj_MF"
      },
      "source": [
        "## Evaluating Regression Models\r\n",
        "\r\n",
        "**Mean Absolute Error**\r\n",
        "\r\n",
        "Perhaps the simplest way to measure error in regression models is using the mean absolute error. In words, the error function returns the mean of the absolute value of the error. It is important to keep the absolute value, or else negative errors will compensate for positive errors and give falsely optimistic performance. Here is the mathematical function for Mean Absolute Error:\r\n",
        "\r\n",
        "$MAE=\\frac{\\sum_{i=1}^{n} \\lvert y_i-\\hat{y_{i}} \\rvert}{n}$\r\n",
        "\r\n",
        "$n$ - Number of Samples\r\n",
        "\r\n",
        "$y_{i}$ - True Value\r\n",
        "\r\n",
        "$\\hat{y_i}$ - Predicted Value"
      ]
    },
    {
      "cell_type": "code",
      "metadata": {
        "colab": {
          "base_uri": "https://localhost:8080/"
        },
        "id": "StDU90WHjyz9",
        "outputId": "bee96b10-0bcc-47a8-ea12-5ef5c595e068"
      },
      "source": [
        "mae = mean_absolute_error(y_hat, y_test)\r\n",
        "mae"
      ],
      "execution_count": null,
      "outputs": [
        {
          "output_type": "execute_result",
          "data": {
            "text/plain": [
              "0.5332001304956565"
            ]
          },
          "metadata": {
            "tags": []
          },
          "execution_count": 15
        }
      ]
    },
    {
      "cell_type": "markdown",
      "metadata": {
        "id": "5-XKw7-RoQu9"
      },
      "source": [
        "Mean absolute error is a valid metric for regression and provides reliable results. However, many data scientists prefer to use the root mean square error ($RMSE$) function. With $MAE$, all the errors are weighted the same amount. $RMSE$ provides more weight to larger errors. \r\n",
        "\r\n",
        "**Root Mean Squared Errors**\r\n",
        "\r\n",
        "This error represents the square root of the average squared errors. Here is the mathematical formula.\r\n",
        "\r\n",
        "$RMSE=\\sqrt{\\frac{\\sum_{i=1}^{n} ( y_i-\\hat{y_{i}})^2}{n}}$\r\n",
        "\r\n",
        "Let's look at a few examples to understand the comparson of $MAE$ and $RMSE$:\r\n",
        "\r\n",
        "<table>\r\n",
        "<tr><th>Example 1 </th><th>Example 2</th><th>Example 3</th></tr>\r\n",
        "<tr><td>\r\n",
        "\r\n",
        "|$y$|$\\hat{y}$|\r\n",
        "|-|-|\r\n",
        "|1|2|\r\n",
        "|2|3|\r\n",
        "|6|5|\r\n",
        "|12|11|\r\n",
        "\r\n",
        "|MAE|RMSE|\r\n",
        "|:-:|:-:|\r\n",
        "|1|1|\r\n",
        "\r\n",
        "</td><td>\r\n",
        "\r\n",
        "|$y$|$\\hat{y}$|\r\n",
        "|-|-|\r\n",
        "|1|2|\r\n",
        "|2|3|\r\n",
        "|6|10|\r\n",
        "|12|8|\r\n",
        "\r\n",
        "|MAE|RMSE|\r\n",
        "|:-:|:-:|\r\n",
        "|2.5|2.915|\r\n",
        "\r\n",
        "</td><td>\r\n",
        "\r\n",
        "|$y$|$\\hat{y}$|\r\n",
        "|-|-|\r\n",
        "|1|1|\r\n",
        "|2|2|\r\n",
        "|6|6|\r\n",
        "|12|32|\r\n",
        "\r\n",
        "|MAE|RMSE|\r\n",
        "|:-:|:-:|\r\n",
        "|5|10|\r\n",
        "\r\n",
        "</td></tr> </table>\r\n",
        "\r\n",
        "As you may notice from the tables above, the RMSE heavily weights larger errors. In the last example, because of the one error that is significantly larger, the RMSE is twice the MAE. \r\n",
        "\r\n",
        "**Implementing in sklearn**\r\n",
        "\r\n",
        "The ```sklearn``` library only contains the ```mean_squared_error``` evaluation metric which we imported from ```sklearn.metrics```. We take the square root of this to get the RMSE. "
      ]
    },
    {
      "cell_type": "code",
      "metadata": {
        "colab": {
          "base_uri": "https://localhost:8080/"
        },
        "id": "uRIdWLlUENU6",
        "outputId": "ac3ac580-e080-4141-be57-b39f95f5793e"
      },
      "source": [
        "rmse = (mean_squared_error(y_hat, y_test))**(0.5)\n",
        "rmse"
      ],
      "execution_count": null,
      "outputs": [
        {
          "output_type": "execute_result",
          "data": {
            "text/plain": [
              "0.7455813830127763"
            ]
          },
          "metadata": {
            "tags": []
          },
          "execution_count": 16
        }
      ]
    },
    {
      "cell_type": "markdown",
      "metadata": {
        "id": "YWMZDcSkCzaH"
      },
      "source": [
        "One cool feature that sklearn provides us with is the ability to see the coefficients and intecept after the model has been trained. We will take a look at those now."
      ]
    },
    {
      "cell_type": "code",
      "metadata": {
        "colab": {
          "base_uri": "https://localhost:8080/"
        },
        "id": "AChqTzwDC8q3",
        "outputId": "f0ccc67c-908f-4e98-8255-71e0ffbf85bc"
      },
      "source": [
        "print(f'Coefficients: {reg.coef_}')\r\n",
        "print(f'Intercept: {reg.intercept_}')"
      ],
      "execution_count": null,
      "outputs": [
        {
          "output_type": "stream",
          "text": [
            "Coefficients: [ 0.85438303  0.12254624 -0.29441013  0.33925949 -0.00230772 -0.0408291\n",
            " -0.89692888 -0.86984178]\n",
            "Intercept: 2.0719469373788777\n"
          ],
          "name": "stdout"
        }
      ]
    },
    {
      "cell_type": "markdown",
      "metadata": {
        "id": "9_ru9OXADJp2"
      },
      "source": [
        "Therefore, our linear regression model (approximately) is the following:\r\n",
        "\r\n",
        "$\\hat{y} \\approx 2.072+0.854x_1+0.122x_2-0.294x_3+0.339x_4-0.002x_5-0.041x_6-0.897x_7-0.870x_8$"
      ]
    }
  ]
}